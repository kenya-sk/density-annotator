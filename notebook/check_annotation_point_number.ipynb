{
 "cells": [
  {
   "cell_type": "code",
   "execution_count": null,
   "metadata": {},
   "outputs": [],
   "source": [
    "%matplotlib inline\n",
    "\n",
    "import matplotlib.pyplot as plt\n",
    "import pandas as pd\n",
    "\n",
    "from glob import glob\n",
    "from tqdm import tqdm"
   ]
  },
  {
   "cell_type": "code",
   "execution_count": null,
   "metadata": {},
   "outputs": [],
   "source": [
    "annotation_point_dirc = \"../data/sampling_images/20170416/annotated/coord/\"\n",
    "path_list = glob(f\"{annotation_point_dirc}/*.csv\")\n",
    "\n",
    "print(f\"Target File Number: {len(path_list)}\")"
   ]
  },
  {
   "cell_type": "code",
   "execution_count": null,
   "metadata": {},
   "outputs": [],
   "source": [
    "point_number_list = []\n",
    "\n",
    "for path in tqdm(path_list):\n",
    "    point_df = pd.read_csv(path)\n",
    "    point_number = len(point_df)\n",
    "    point_number_list.append(point_number)"
   ]
  },
  {
   "cell_type": "code",
   "execution_count": null,
   "metadata": {},
   "outputs": [],
   "source": [
    "x = [i for i in range(len(point_number_list))]\n",
    "\n",
    "plt.figure(figsize=(24, 9))\n",
    "plt.rcParams[\"font.size\"] = 18\n",
    "\n",
    "plt.plot(x, point_number_list, marker=\"o\")\n",
    "\n",
    "plt.title(\"Check the Number of Feature Point in Each File\")\n",
    "plt.xlabel(\"File Path Index\")\n",
    "plt.ylabel(\"Feature Point Number\")"
   ]
  },
  {
   "cell_type": "code",
   "execution_count": null,
   "metadata": {},
   "outputs": [],
   "source": []
  }
 ],
 "metadata": {
  "kernelspec": {
   "display_name": "Python 3",
   "language": "python",
   "name": "python3"
  },
  "language_info": {
   "codemirror_mode": {
    "name": "ipython",
    "version": 3
   },
   "file_extension": ".py",
   "mimetype": "text/x-python",
   "name": "python",
   "nbconvert_exporter": "python",
   "pygments_lexer": "ipython3",
   "version": "3.8.5"
  }
 },
 "nbformat": 4,
 "nbformat_minor": 4
}
